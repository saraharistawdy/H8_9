{
 "cells": [
  {
   "cell_type": "markdown",
   "id": "a17fee0e",
   "metadata": {},
   "source": [
    "# First Meeting"
   ]
  },
  {
   "cell_type": "markdown",
   "id": "a2d704fd",
   "metadata": {},
   "source": [
    "## Integers\n",
    "There are no limitations for integers, it's limited by the amount of memory your system has."
   ]
  },
  {
   "cell_type": "code",
   "execution_count": 15,
   "id": "7135fbaa",
   "metadata": {},
   "outputs": [
    {
     "name": "stdout",
     "output_type": "stream",
     "text": [
      "10\n",
      "100\n",
      "583192316114\n",
      "<class 'int'>\n"
     ]
    }
   ],
   "source": [
    "print(10)\n",
    "print(100)\n",
    "print(583192316113+1)\n",
    "\n",
    "print(type(10))"
   ]
  },
  {
   "cell_type": "markdown",
   "id": "0fb83e4f",
   "metadata": {},
   "source": [
    "## Floating-Point Numbers\n",
    "Floating-point numbers are a numerical representation to approximate real numbers, especially those with decimal points. "
   ]
  },
  {
   "cell_type": "code",
   "execution_count": 14,
   "id": "ee3efcff",
   "metadata": {},
   "outputs": [
    {
     "name": "stdout",
     "output_type": "stream",
     "text": [
      "0.00042\n",
      "4.0\n",
      "0.2\n",
      "4000000.0\n",
      "0.00042\n",
      "<class 'float'>\n"
     ]
    }
   ],
   "source": [
    "print(4.2E-4)\n",
    "print(4.)\n",
    "print(.2)\n",
    "print(.4e7)\n",
    "print(4.2e-4)\n",
    "\n",
    "print(type(4.2E-4))"
   ]
  },
  {
   "cell_type": "markdown",
   "id": "26e01603",
   "metadata": {},
   "source": [
    "## Strings\n",
    "String is a data type used to represent text or a sequence of characters."
   ]
  },
  {
   "cell_type": "code",
   "execution_count": 10,
   "id": "609c9510",
   "metadata": {},
   "outputs": [
    {
     "name": "stdout",
     "output_type": "stream",
     "text": [
      "Hello World\n",
      "<class 'str'>\n",
      "\"Hello World\"\n",
      "Can't\n",
      "\"She\" knows\n",
      " \"She\" knows she can't do it\" \n",
      "\n"
     ]
    },
    {
     "data": {
      "text/plain": [
       "'Hello World'"
      ]
     },
     "metadata": {},
     "output_type": "display_data"
    }
   ],
   "source": [
    "print('Hello World')\n",
    "print(type(\"Sarah\"))\n",
    "print('\"Hello World\"')\n",
    "print(\"Can't\")\n",
    "print('\"She\" knows')\n",
    "print(''' \"She\" knows she can't do it\" ''')\n",
    "print('')\n",
    "display(\"Hello World\")"
   ]
  },
  {
   "cell_type": "markdown",
   "id": "ce7fadee",
   "metadata": {},
   "source": [
    "## Boolean Type, Boolean Context, and “Truthiness”\n",
    "- Boolean type is a fundamental data type that represents two values: True and False.\n",
    "- Boolean context refers to a condition or expression is evaluated as either True or False.\n",
    "- \"Truthiness\" is a concept that refers to the idea that not all values need to be explicitly True or False to be treated as boolean values in boolean contexts."
   ]
  },
  {
   "cell_type": "code",
   "execution_count": 13,
   "id": "a5f652d2",
   "metadata": {},
   "outputs": [
    {
     "name": "stdout",
     "output_type": "stream",
     "text": [
      "True\n",
      "False\n",
      "1\n",
      "2\n",
      "0\n",
      "<class 'bool'>\n",
      "<class 'bool'>\n"
     ]
    }
   ],
   "source": [
    "print(True)\n",
    "print(False)\n",
    "\n",
    "print(True + False)\n",
    "print(True + True)\n",
    "print(False + False)\n",
    "\n",
    "print(type(True))\n",
    "print(type(False))"
   ]
  },
  {
   "cell_type": "markdown",
   "id": "d48d03d6",
   "metadata": {},
   "source": [
    "## Variable Assignment"
   ]
  },
  {
   "cell_type": "code",
   "execution_count": 16,
   "id": "75d5b3ce",
   "metadata": {},
   "outputs": [
    {
     "name": "stdout",
     "output_type": "stream",
     "text": [
      "1000\n"
     ]
    },
    {
     "data": {
      "text/plain": [
       "1000"
      ]
     },
     "execution_count": 16,
     "metadata": {},
     "output_type": "execute_result"
    }
   ],
   "source": [
    "n = 1000\n",
    "print(n)\n",
    "n"
   ]
  },
  {
   "cell_type": "code",
   "execution_count": 17,
   "id": "6b65d913",
   "metadata": {},
   "outputs": [
    {
     "name": "stdout",
     "output_type": "stream",
     "text": [
      "b\n"
     ]
    },
    {
     "data": {
      "text/plain": [
       "500"
      ]
     },
     "execution_count": 17,
     "metadata": {},
     "output_type": "execute_result"
    }
   ],
   "source": [
    "a = 'b'\n",
    "print(a)\n",
    "\n",
    "a = 500\n",
    "a"
   ]
  },
  {
   "cell_type": "code",
   "execution_count": 18,
   "id": "91039156",
   "metadata": {},
   "outputs": [
    {
     "name": "stdout",
     "output_type": "stream",
     "text": [
      "19\n",
      "19\n",
      "19\n",
      "9\n",
      "8\n",
      "s\n"
     ]
    }
   ],
   "source": [
    "q = w = e = 19 #chained assignment\n",
    "print(q)\n",
    "print(w)\n",
    "print(e)\n",
    "\n",
    "z, x, y = 9, 8, 's'\n",
    "print(z)\n",
    "print(x)\n",
    "print(y)"
   ]
  },
  {
   "cell_type": "markdown",
   "id": "af2d3fe9",
   "metadata": {},
   "source": [
    "## Variable Types in Python"
   ]
  },
  {
   "cell_type": "code",
   "execution_count": 19,
   "id": "9731efea",
   "metadata": {},
   "outputs": [
    {
     "name": "stdout",
     "output_type": "stream",
     "text": [
      "23.5\n",
      "Now I'm a string\n"
     ]
    }
   ],
   "source": [
    "var = 23.5\n",
    "print(var)\n",
    "\n",
    "var = \"Now I'm a string\"\n",
    "print(var)"
   ]
  },
  {
   "cell_type": "markdown",
   "id": "ffb5e6ee",
   "metadata": {},
   "source": [
    "## Variable Names\n",
    "In Python, officially, variable names can be of any length and can consist of both uppercase and lowercase letters (A-Z, a-z), digits (0-9), and underscore characters (_). Although variable names can contain numbers, the first character of a variable name cannot be a digit."
   ]
  },
  {
   "cell_type": "code",
   "execution_count": 21,
   "id": "07473901",
   "metadata": {},
   "outputs": [
    {
     "name": "stdout",
     "output_type": "stream",
     "text": [
      "Tiwaw 58 True\n"
     ]
    }
   ],
   "source": [
    "name = \"Tiwaw\"\n",
    "Age = 58\n",
    "has_laptops = True\n",
    "print(name, Age, has_laptops)"
   ]
  },
  {
   "cell_type": "code",
   "execution_count": 22,
   "id": "b3d303f7",
   "metadata": {},
   "outputs": [
    {
     "ename": "SyntaxError",
     "evalue": "invalid decimal literal (878343658.py, line 1)",
     "output_type": "error",
     "traceback": [
      "\u001b[1;36m  Cell \u001b[1;32mIn[22], line 1\u001b[1;36m\u001b[0m\n\u001b[1;33m    16_yourday = True\u001b[0m\n\u001b[1;37m      ^\u001b[0m\n\u001b[1;31mSyntaxError\u001b[0m\u001b[1;31m:\u001b[0m invalid decimal literal\n"
     ]
    }
   ],
   "source": [
    "16_yourday = True #first character of a variable name cannot be a digit"
   ]
  },
  {
   "cell_type": "code",
   "execution_count": 24,
   "id": "3fa52704",
   "metadata": {},
   "outputs": [
    {
     "name": "stdout",
     "output_type": "stream",
     "text": [
      "1 2 3 4 5 6 7 8\n"
     ]
    }
   ],
   "source": [
    "age = 1\n",
    "Age = 2\n",
    "aGe = 3\n",
    "AGE = 4\n",
    "a_g_e = 5\n",
    "_age = 6\n",
    "age_ = 7\n",
    "_AGE_ = 8\n",
    "\n",
    "print(age, Age, aGe, AGE, a_g_e, _age, age_, _AGE_)"
   ]
  },
  {
   "cell_type": "markdown",
   "id": "49982bb7",
   "metadata": {},
   "source": [
    "## Operators and Expressions in Python\n",
    "operators and expressions are fundamental concepts used in programming to perform calculations, comparisons, and various operations on data.\n",
    "- Operators are symbols or special keywords that indicate which operation to perform on one or more values. \n",
    "- Expressions, on the other hand, are combinations of values and operators that can be evaluated to produce a result. "
   ]
  },
  {
   "cell_type": "markdown",
   "id": "71b631ae",
   "metadata": {},
   "source": [
    "### Arithmetic Operators"
   ]
  },
  {
   "cell_type": "code",
   "execution_count": 27,
   "id": "ac947657",
   "metadata": {},
   "outputs": [
    {
     "name": "stdout",
     "output_type": "stream",
     "text": [
      "14\n",
      "4\n",
      "45\n",
      "1.8\n",
      "1\n",
      "59049\n",
      "4\n",
      "37\n"
     ]
    }
   ],
   "source": [
    "a = 9\n",
    "b = 5\n",
    "print(a + b) # penjumlahan\n",
    "print(a - b) # pengurangan\n",
    "print(a * b) # perkalian\n",
    "print(a / b) # pembagian desimal\n",
    "print(a // b) # pembagian integer\n",
    "print(a ** b) # pangkat\n",
    "print(a % b) # modulo\n",
    "\n",
    "print(a + b + 23)"
   ]
  },
  {
   "cell_type": "markdown",
   "id": "bf0a442f",
   "metadata": {},
   "source": [
    "### Comparison Operators"
   ]
  },
  {
   "cell_type": "code",
   "execution_count": 29,
   "id": "e34aae24",
   "metadata": {},
   "outputs": [
    {
     "name": "stdout",
     "output_type": "stream",
     "text": [
      "False\n",
      "False\n",
      "True\n",
      "False\n",
      "False\n",
      "True\n",
      "True\n"
     ]
    }
   ],
   "source": [
    "a = 5\n",
    "b = 8\n",
    "c = 3\n",
    "print(a == b)\n",
    "print(c == b) #sama dengan\n",
    "print(a != b) #tidak sama dengan\n",
    "print(a > b) # besar dari\n",
    "print(a >= b) #besar dari sama dengan\n",
    "print(a < b) #kecil dari sama dengan\n",
    "print(a <= b) #kecil dari sama dengan"
   ]
  },
  {
   "cell_type": "markdown",
   "id": "0aff2d7a",
   "metadata": {},
   "source": [
    "## String Manipulation"
   ]
  },
  {
   "cell_type": "code",
   "execution_count": 30,
   "id": "ba5f776d",
   "metadata": {},
   "outputs": [
    {
     "name": "stdout",
     "output_type": "stream",
     "text": [
      "Statistics\n",
      "Hactiv8\n",
      "StatStatStatStatStat\n",
      "True\n",
      "False\n"
     ]
    }
   ],
   "source": [
    "q = 'Stat'\n",
    "w = 'istics'\n",
    "print(q + w)\n",
    "print('Hactiv' + '8')\n",
    "print(q * a)\n",
    "print(q in 'Statistics')\n",
    "print(w in 'Statistic')\n",
    "\n"
   ]
  },
  {
   "cell_type": "code",
   "execution_count": 31,
   "id": "447bdd03",
   "metadata": {},
   "outputs": [
    {
     "name": "stdout",
     "output_type": "stream",
     "text": [
      "UNIVERSITAS DIPONEGORO\n",
      "universitas diponegoro\n",
      "Universitas diponegoro\n",
      "uNIvERSitAS dIponEGOro\n",
      "Universitas Diponegoro\n"
     ]
    }
   ],
   "source": [
    "d = 'UniVersITas DiPONegoRO'\n",
    "#Uppercase\n",
    "print(d.upper())\n",
    "#Lowercase\n",
    "print(d.lower())\n",
    "#Capitalize\n",
    "print(d.capitalize())\n",
    "#Swapcase\n",
    "print(d.swapcase())\n",
    "#Title\n",
    "print(d.title())"
   ]
  },
  {
   "cell_type": "markdown",
   "id": "26af1bb5",
   "metadata": {},
   "source": [
    "## Python List\n",
    "List\" is a collection of objects that is arbitrary and somewhat similar to arrays in many other programming languages but more flexible. In Python, lists are defined by including a sequence of objects separated by commas within square brackets ([])."
   ]
  },
  {
   "cell_type": "code",
   "execution_count": 36,
   "id": "9f39df11",
   "metadata": {},
   "outputs": [],
   "source": [
    "#index ke 0  1  2    3    4           5            6    7   8  9  10\n",
    "daftar = [1, 2, 43, 'a', True, ['b', 300, False], 4.6, 1+1, a, q, w]\n",
    "# index minus                                               -3 -2 -1\n",
    "py = ['Sarah', 'KS19', 'Hatcktiv8']"
   ]
  },
  {
   "cell_type": "code",
   "execution_count": 37,
   "id": "a1511913",
   "metadata": {},
   "outputs": [
    {
     "name": "stdout",
     "output_type": "stream",
     "text": [
      "<class 'list'>\n",
      "[1, 2, 43, 'a', True, ['b', 300, False], 4.6, 2, ['foo', 'bar', 'baz', 'qux'], 'Stat', 'istics']\n",
      "a\n",
      "['b', 300, False]\n",
      "2\n",
      "['foo', 'bar', 'baz', 'qux']\n",
      "[2, 43, 'a', True, ['b', 300, False]]\n",
      "[1, 2, 43, 'a', True, ['b', 300, False], 4.6, 2, ['foo', 'bar', 'baz', 'qux'], 'Stat', 'istics', 'Sarah', 'KS19', 'Hatcktiv8']\n",
      "['Sarah', 'KS19', 'Hatcktiv8', 'Sarah', 'KS19', 'Hatcktiv8', 'Sarah', 'KS19', 'Hatcktiv8']\n",
      "11\n",
      "Sarah\n",
      "Hatcktiv8\n"
     ]
    }
   ],
   "source": [
    "print(type(daftar))\n",
    "print(daftar)\n",
    "print(daftar[3])\n",
    "print(daftar[5])\n",
    "print(daftar[7])\n",
    "print(daftar[-3])\n",
    "print(daftar[1:6])\n",
    "print(daftar + py)\n",
    "print(py * 3)\n",
    "print(len(daftar))\n",
    "print(max(py))\n",
    "print(min(py))"
   ]
  },
  {
   "cell_type": "code",
   "execution_count": 48,
   "id": "709bd313",
   "metadata": {},
   "outputs": [
    {
     "name": "stdout",
     "output_type": "stream",
     "text": [
      "[1, 2, 43, 'a', True, ['b', 300, False], 4.6, 2, ['Sarah', 'KS19', 'Hatcktiv8'], 'Stat', 'istics']\n",
      "[1, 2, 43, 'a', True, ['b', 300, False], 4.6, 2, ['Sarah', 'KS19', 'Hatcktiv8'], 'Bahagia', 'istics']\n",
      "[1, 2, 43, 'a', True, ['b', 300, False], 4.6, 2, ['Sarah', 'KS19', 'Hatcktiv8'], 'Bahagia', 'istics']\n",
      "[1.5, 'a', True, ['b', 300, False], 4.6, 2, ['Sarah', 'KS19', 'Hatcktiv8'], 'Bahagia', 'istics']\n"
     ]
    }
   ],
   "source": [
    "#index ke 0  1  2    3    4           5            6    7   8  9  10\n",
    "daftar = [1, 2, 43, 'a', True, ['b', 300, False], 4.6, 1+1, a, q, w]\n",
    "# index minus                                               -3 -2 -1\n",
    "py = ['Sarah', 'KS19', 'Hatcktiv8']\n",
    "\n",
    "daftar[8] = py\n",
    "print(daftar)\n",
    "daftar[-2] = 'Bahagia'\n",
    "print(daftar)\n",
    "# del daftar[3]\n",
    "print(daftar)\n",
    "daftar[:3] = [1.5]\n",
    "print(daftar)"
   ]
  },
  {
   "cell_type": "code",
   "execution_count": 49,
   "id": "d67a3553",
   "metadata": {},
   "outputs": [
    {
     "name": "stdout",
     "output_type": "stream",
     "text": [
      "(1, 2, 43, 'a', True, ['b', 300, False], 4.6, 2, ['foo', 'bar', 'baz', 'qux'], 'Stat', 'istics')\n",
      "(2, 43, 'a', True)\n"
     ]
    }
   ],
   "source": [
    "tapel = (1, 2, 43, 'a', True, ['b', 300, False], 4.6, 1+1, a, q, w)\n",
    "print(tapel)\n",
    "print(tapel[1:5])"
   ]
  },
  {
   "cell_type": "markdown",
   "id": "44358000",
   "metadata": {},
   "source": [
    "## Python Tuples"
   ]
  },
  {
   "cell_type": "code",
   "execution_count": 46,
   "id": "7d43a15b",
   "metadata": {},
   "outputs": [
    {
     "name": "stdout",
     "output_type": "stream",
     "text": [
      "('foo', 'bar', 'baz', 'qux', 'quux', 'corge')\n",
      "foo\n",
      "corge\n"
     ]
    }
   ],
   "source": [
    "t = ('foo', 'bar', 'baz', 'qux', 'quux', 'corge')\n",
    "print(t)\n",
    "print(t[0])\n",
    "print(t[-1])"
   ]
  },
  {
   "cell_type": "code",
   "execution_count": 47,
   "id": "afdc124b",
   "metadata": {},
   "outputs": [
    {
     "data": {
      "text/plain": [
       "'foo'"
      ]
     },
     "execution_count": 47,
     "metadata": {},
     "output_type": "execute_result"
    }
   ],
   "source": [
    "(s1, s2, s3, s4) = ('foo', 'bar', 'baz', 'qux')\n",
    "s1"
   ]
  },
  {
   "cell_type": "markdown",
   "id": "f816692a",
   "metadata": {},
   "source": [
    "## Python Dictionary"
   ]
  },
  {
   "cell_type": "code",
   "execution_count": 50,
   "id": "2eb49f76",
   "metadata": {},
   "outputs": [
    {
     "name": "stdout",
     "output_type": "stream",
     "text": [
      "<class 'dict'>\n",
      "what\n",
      "{'apa': 'what', 'siapa': 'who', 'bagaimana': 'how', 'kapan': 'when'}\n",
      "{'siapa': 'who', 'bagaimana': 'how', 'kapan': 'when'}\n",
      "{'siapa': 'who', 'bagaimana': 'how', 'kapan': 'when'}\n"
     ]
    }
   ],
   "source": [
    "kamus = {\n",
    "    'apa':'what', 'siapa':'who', 'bagaimana':'how'\n",
    "}\n",
    "print(type(kamus))\n",
    "print(kamus['apa'])\n",
    "kamus['kapan'] = 'when'\n",
    "print(kamus)\n",
    "del kamus['apa']\n",
    "print(kamus)\n",
    "# kamus.clear()\n",
    "print(kamus)"
   ]
  },
  {
   "cell_type": "code",
   "execution_count": 51,
   "id": "81eefca2",
   "metadata": {},
   "outputs": [
    {
     "name": "stdout",
     "output_type": "stream",
     "text": [
      "{'kota': ['madagascar'], 'jalan': 'situ baru', 'nomor rumah': 10, 'pohon': ['cendana', 'mahoni', 'beringin'], 'akses': {'KRL': 'bisa', 'TJ': {'bisa': 'tapi susah'}, 'ojol': 'tidak'}}\n",
      "mahoni\n",
      "tapi susah\n",
      "dict_items([('kota', ['madagascar']), ('jalan', 'situ baru'), ('nomor rumah', 10), ('pohon', ['cendana', 'mahoni', 'beringin']), ('akses', {'KRL': 'bisa', 'TJ': {'bisa': 'tapi susah'}, 'ojol': 'tidak'})])\n",
      "\n",
      "dict_values([['madagascar'], 'situ baru', 10, ['cendana', 'mahoni', 'beringin'], {'KRL': 'bisa', 'TJ': {'bisa': 'tapi susah'}, 'ojol': 'tidak'}])\n",
      "\n",
      "dict_keys(['kota', 'jalan', 'nomor rumah', 'pohon', 'akses'])\n"
     ]
    }
   ],
   "source": [
    "alamat = {}\n",
    "\n",
    "alamat['kota'] = ['madagascar'] \n",
    "alamat['jalan'] = 'situ baru'\n",
    "alamat['nomor rumah'] = 10\n",
    "alamat['pohon'] = ['cendana', 'mahoni', 'beringin']\n",
    "alamat['akses'] = {'KRL':'bisa', 'TJ':{'bisa':'tapi susah'}, 'ojol':'tidak'}\n",
    "\n",
    "print(alamat)\n",
    "print(alamat['pohon'][1])\n",
    "print(alamat['akses']['TJ']['bisa'])\n",
    "print(alamat.items())\n",
    "print()\n",
    "print(alamat.values())\n",
    "print()\n",
    "print(alamat.keys())"
   ]
  },
  {
   "cell_type": "code",
   "execution_count": null,
   "id": "e4ce406c",
   "metadata": {},
   "outputs": [],
   "source": []
  }
 ],
 "metadata": {
  "kernelspec": {
   "display_name": "Python 3 (ipykernel)",
   "language": "python",
   "name": "python3"
  },
  "language_info": {
   "codemirror_mode": {
    "name": "ipython",
    "version": 3
   },
   "file_extension": ".py",
   "mimetype": "text/x-python",
   "name": "python",
   "nbconvert_exporter": "python",
   "pygments_lexer": "ipython3",
   "version": "3.11.4"
  }
 },
 "nbformat": 4,
 "nbformat_minor": 5
}
