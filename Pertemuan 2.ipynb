{
 "cells": [
  {
   "cell_type": "markdown",
   "id": "c7043e60",
   "metadata": {},
   "source": [
    "# Second Meeting"
   ]
  },
  {
   "cell_type": "markdown",
   "id": "dad706ef",
   "metadata": {},
   "source": [
    "## Conditional\n",
    "Python supports logical conditions that usually used in mathematics."
   ]
  },
  {
   "cell_type": "code",
   "execution_count": 1,
   "id": "18839ff8",
   "metadata": {},
   "outputs": [
    {
     "data": {
      "text/plain": [
       "True"
      ]
     },
     "execution_count": 1,
     "metadata": {},
     "output_type": "execute_result"
    }
   ],
   "source": [
    "a = 2\n",
    "b = 2\n",
    "\n",
    "a == b #equals\n",
    "a != b #not equals\n",
    "a > b #Less than\n",
    "a >= b #Less than or equal to\n",
    "a < b #Greater than\n",
    "a <= b #Greater than or equal to"
   ]
  },
  {
   "cell_type": "markdown",
   "id": "4be8d4b3",
   "metadata": {},
   "source": [
    "### if Statement"
   ]
  },
  {
   "cell_type": "code",
   "execution_count": 2,
   "id": "a0fab622",
   "metadata": {},
   "outputs": [
    {
     "name": "stdout",
     "output_type": "stream",
     "text": [
      "Ya\n",
      "a lebih besar atau sama dengan b\n"
     ]
    }
   ],
   "source": [
    "if a == b:\n",
    "    print(\"Ya\")\n",
    "    \n",
    "if a > b:\n",
    "    print(\"a besar dari b\")\n",
    "\n",
    "if a >= b:\n",
    "    print(\"a lebih besar atau sama dengan b\")"
   ]
  },
  {
   "cell_type": "code",
   "execution_count": 3,
   "id": "f442e42e",
   "metadata": {},
   "outputs": [
    {
     "name": "stdout",
     "output_type": "stream",
     "text": [
      "yes\n",
      "yes\n",
      "yes\n"
     ]
    }
   ],
   "source": [
    "x = 0\n",
    "y = 5\n",
    "\n",
    "if x < y:                            # Truthy\n",
    "    print('yes')\n",
    "\n",
    "if y < x:                            # Falsy\n",
    "    print('yes')\n",
    "\n",
    "if x:                                # Falsy\n",
    "    print('yes')\n",
    "\n",
    "if y:                                # Truthy\n",
    "    print('yes')\n",
    "\n",
    "if 'aul' in 'grault':                # Truthy\n",
    "    print('yes')\n",
    "\n",
    "if 'quux' in ['foo', 'bar', 'baz']:  # Falsy\n",
    "    print('yes')"
   ]
  },
  {
   "cell_type": "markdown",
   "id": "a3924870",
   "metadata": {},
   "source": [
    "### else and elif Statement"
   ]
  },
  {
   "cell_type": "code",
   "execution_count": 1,
   "id": "88b9b6cb",
   "metadata": {},
   "outputs": [
    {
     "name": "stdout",
     "output_type": "stream",
     "text": [
      "Ya\n",
      "a dan b sama\n",
      "paling bawah\n"
     ]
    }
   ],
   "source": [
    "a = 2\n",
    "b = 3\n",
    "if a!= b:\n",
    "    print(\"Ya\")\n",
    "    print(\"a dan b sama\")\n",
    "else:\n",
    "    print('jalankan else')\n",
    "    \n",
    "\n",
    "print(\"paling bawah\")"
   ]
  },
  {
   "cell_type": "code",
   "execution_count": 2,
   "id": "51ad51cf",
   "metadata": {},
   "outputs": [
    {
     "name": "stdout",
     "output_type": "stream",
     "text": [
      "uang kamu cukup untuk membeli buku\n"
     ]
    }
   ],
   "source": [
    "harga_buku = 2000\n",
    "harga_majalah = 35000\n",
    "uang = 15000\n",
    "\n",
    "if uang > harga_majalah:\n",
    "    print(\"uang kamu cukup untuk membeli majalah\")\n",
    "elif uang >= harga_buku:\n",
    "    print(\"uang kamu cukup untuk membeli buku\")\n",
    "elif uang == harga_buku:\n",
    "    print(\"uang kamu cukup untuk membeli buku, dan habis.\")\n",
    "else:\n",
    "    print(\"uang kamu tidak cukup untuk berbelanja. nabung lagi ya\")"
   ]
  },
  {
   "cell_type": "code",
   "execution_count": 3,
   "id": "2d56dcfd",
   "metadata": {},
   "outputs": [
    {
     "name": "stdout",
     "output_type": "stream",
     "text": [
      "Hello Hacktiv8\n"
     ]
    }
   ],
   "source": [
    "name = 'Hacktiv8'\n",
    "if name == 'Fred':\n",
    "    print('Hello Fred')\n",
    "elif name == 'Xander':\n",
    "    print('Hello Xander')\n",
    "elif name == 'Hacktiv8':\n",
    "    print('Hello Hacktiv8')\n",
    "elif name == 'Arnold':\n",
    "    print('Hello Arnold')\n",
    "else:\n",
    "    print(\"I don't know who you are!\")"
   ]
  },
  {
   "cell_type": "code",
   "execution_count": 4,
   "id": "81a99157",
   "metadata": {},
   "outputs": [
    {
     "name": "stdout",
     "output_type": "stream",
     "text": [
      "1 kecil dari 2\n",
      "1 kecil dari 2\n"
     ]
    }
   ],
   "source": [
    "if 1 < 2:\n",
    "    print('1 kecil dari 2')\n",
    "if 2 == 1:\n",
    "    print('2 sama dengan 1')\n",
    "elif 1<2:\n",
    "    print('1 kecil dari 2')"
   ]
  },
  {
   "cell_type": "markdown",
   "id": "cb18f00e",
   "metadata": {},
   "source": [
    "### One-Line if Statements"
   ]
  },
  {
   "cell_type": "code",
   "execution_count": 5,
   "id": "97921cba",
   "metadata": {},
   "outputs": [
    {
     "name": "stdout",
     "output_type": "stream",
     "text": [
      "ada\n",
      "a\n",
      "dalam\n",
      "bara\n"
     ]
    }
   ],
   "source": [
    "if 'a' in 'bara': print('ada');print('a');print('dalam');print('bara')"
   ]
  },
  {
   "cell_type": "code",
   "execution_count": 6,
   "id": "0a1d2bdb",
   "metadata": {},
   "outputs": [
    {
     "data": {
      "text/plain": [
       "2"
      ]
     },
     "execution_count": 6,
     "metadata": {},
     "output_type": "execute_result"
    }
   ],
   "source": [
    "a"
   ]
  },
  {
   "cell_type": "code",
   "execution_count": 7,
   "id": "ffec72bf",
   "metadata": {},
   "outputs": [
    {
     "name": "stdout",
     "output_type": "stream",
     "text": [
      "adik saya ada 2\n"
     ]
    }
   ],
   "source": [
    "print(\"adik saya ada\", a)"
   ]
  },
  {
   "cell_type": "code",
   "execution_count": 8,
   "id": "aced30aa",
   "metadata": {},
   "outputs": [],
   "source": [
    "if 'z' in 'foo': print('1'); print('2'); print('3')"
   ]
  },
  {
   "cell_type": "code",
   "execution_count": 9,
   "id": "d5d55ec2",
   "metadata": {},
   "outputs": [
    {
     "name": "stdout",
     "output_type": "stream",
     "text": [
      "regresi\n",
      "poisson\n"
     ]
    }
   ],
   "source": [
    "#Multiple statements dapat ditentukan pada baris yang sama sebagai elif atau else\n",
    "x = 3\n",
    "if x == 1: print('semarang'); print('statistika'); print('sarah')\n",
    "elif x == 2: print('diponegoro'); print('hacktiv8')\n",
    "else: print('regresi'); print('poisson')"
   ]
  },
  {
   "cell_type": "markdown",
   "id": "19165b93",
   "metadata": {},
   "source": [
    "## Conditional Expressions (Python’s Ternary Operator)"
   ]
  },
  {
   "cell_type": "code",
   "execution_count": 10,
   "id": "16a89e0d",
   "metadata": {},
   "outputs": [
    {
     "name": "stdout",
     "output_type": "stream",
     "text": [
      "let's go to the library\n"
     ]
    }
   ],
   "source": [
    "raining = True\n",
    "print(\"let's go to the\", 'beach' if not raining else 'library')"
   ]
  },
  {
   "cell_type": "code",
   "execution_count": 11,
   "id": "c3b2e6b1",
   "metadata": {},
   "outputs": [
    {
     "data": {
      "text/plain": [
       "3"
      ]
     },
     "execution_count": 11,
     "metadata": {},
     "output_type": "execute_result"
    }
   ],
   "source": [
    "m = a if a > b else b\n",
    "m"
   ]
  },
  {
   "cell_type": "code",
   "execution_count": 12,
   "id": "55f27ccb",
   "metadata": {},
   "outputs": [
    {
     "data": {
      "text/plain": [
       "'teen'"
      ]
     },
     "execution_count": 12,
     "metadata": {},
     "output_type": "execute_result"
    }
   ],
   "source": [
    "age = 20\n",
    "e = 'teen' if age < 21 else 'adult'\n",
    "e"
   ]
  },
  {
   "cell_type": "markdown",
   "id": "d7c345db",
   "metadata": {},
   "source": [
    "### The Python pass Statement"
   ]
  },
  {
   "cell_type": "code",
   "execution_count": 13,
   "id": "6b116089",
   "metadata": {},
   "outputs": [
    {
     "ename": "IndentationError",
     "evalue": "expected an indented block after 'if' statement on line 1 (3474547535.py, line 2)",
     "output_type": "error",
     "traceback": [
      "\u001b[1;36m  Cell \u001b[1;32mIn[13], line 2\u001b[1;36m\u001b[0m\n\u001b[1;33m    print('foo')\u001b[0m\n\u001b[1;37m    ^\u001b[0m\n\u001b[1;31mIndentationError\u001b[0m\u001b[1;31m:\u001b[0m expected an indented block after 'if' statement on line 1\n"
     ]
    }
   ],
   "source": [
    "if True:\n",
    "print('foo')"
   ]
  },
  {
   "cell_type": "code",
   "execution_count": 14,
   "id": "ad155315",
   "metadata": {},
   "outputs": [
    {
     "name": "stdout",
     "output_type": "stream",
     "text": [
      "foo\n"
     ]
    }
   ],
   "source": [
    "#Pass digunakan sebagai placeholder untuk membuat interpreter berjalan dalam situasi apa pun di mana pernyataan diperlukan secara sintaksis, tetapi tidak benar-benar ingin melakukan apa pun\n",
    "if True:\n",
    "    pass\n",
    "elif True:\n",
    "    print('y')\n",
    "\n",
    "print('foo')"
   ]
  },
  {
   "cell_type": "markdown",
   "id": "1c69200f",
   "metadata": {},
   "source": [
    "### Iteration\n",
    "Iteration means executing the same block of code repeatedly, potentially multiple times. The programming construct that implements iteration is called a loop. In programming, there are two types of iteration, indefinite and definite:\n",
    "- With indefinite iteration, the number of times the loop is executed is not determined explicitly beforehand. Instead, the designated block is executed repeatedly as long as certain conditions are met.\n",
    "- With definite iteration, the number of times the designated block will be executed is explicitly determined at the beginning of the loop."
   ]
  },
  {
   "cell_type": "markdown",
   "id": "749405b4",
   "metadata": {},
   "source": [
    "### Python \"while\" Loops"
   ]
  },
  {
   "cell_type": "code",
   "execution_count": 15,
   "id": "c74965c5",
   "metadata": {},
   "outputs": [
    {
     "name": "stdout",
     "output_type": "stream",
     "text": [
      "4\n",
      "3\n",
      "2\n",
      "1\n",
      "0\n"
     ]
    }
   ],
   "source": [
    "n = 5\n",
    "while n > 0: #benar, sehingga badan perulangan dieksekusi kemudian dicetak ke layar\n",
    "    n -= 1\n",
    "    print(n)\n",
    "#looping berlanjut sampai n menjadi 0, ketika ekspresi diuji dan salah maka loop berhenti."
   ]
  },
  {
   "cell_type": "code",
   "execution_count": 16,
   "id": "0800beb8",
   "metadata": {},
   "outputs": [],
   "source": [
    "n = n -1\n",
    "n += 1"
   ]
  },
  {
   "cell_type": "code",
   "execution_count": 17,
   "id": "ecbbe972",
   "metadata": {},
   "outputs": [
    {
     "name": "stdout",
     "output_type": "stream",
     "text": [
      "4\n",
      "3\n",
      "1\n",
      "0\n",
      "ada yang salah\n",
      "ini print di luar loop\n"
     ]
    }
   ],
   "source": [
    "n = 5\n",
    "while n > 0:\n",
    "    n -= 1\n",
    "    \n",
    "    if n == 2:\n",
    "        continue\n",
    "\n",
    "    print(n)\n",
    "else:\n",
    "    print('ada yang salah')\n",
    "\n",
    "print('ini print di luar loop')"
   ]
  },
  {
   "cell_type": "code",
   "execution_count": 18,
   "id": "4db528e5",
   "metadata": {},
   "outputs": [
    {
     "name": "stdout",
     "output_type": "stream",
     "text": [
      "1\n",
      "2\n",
      "3\n"
     ]
    },
    {
     "data": {
      "text/plain": [
       "dict_items([('foo', 1), ('bar', 2), ('buzz', 3)])"
      ]
     },
     "execution_count": 18,
     "metadata": {},
     "output_type": "execute_result"
    }
   ],
   "source": [
    "a = {'foo':1, 'bar':2, 'buzz':3}\n",
    "for i in a.values():\n",
    "     print(i)\n",
    "\n",
    "a.items()"
   ]
  },
  {
   "cell_type": "markdown",
   "id": "f9ada322",
   "metadata": {},
   "source": [
    "### The Python break and continue Statements"
   ]
  },
  {
   "cell_type": "code",
   "execution_count": 19,
   "id": "0cab7257",
   "metadata": {},
   "outputs": [
    {
     "name": "stdout",
     "output_type": "stream",
     "text": [
      "4\n",
      "3\n"
     ]
    }
   ],
   "source": [
    "a = 5\n",
    "while a > 0:\n",
    "    a -= 1\n",
    "    if a == 2:\n",
    "        break #menyelesaikan loop\n",
    "    print(a)\n",
    "else:\n",
    "    print('selesai')"
   ]
  },
  {
   "cell_type": "markdown",
   "id": "648ba3d7",
   "metadata": {},
   "source": [
    "### Infinite Loop"
   ]
  },
  {
   "cell_type": "code",
   "execution_count": null,
   "id": "e3d3eaad",
   "metadata": {},
   "outputs": [],
   "source": [
    "while True:\n",
    "    print('statistika')"
   ]
  },
  {
   "cell_type": "markdown",
   "id": "6b5d1ce8",
   "metadata": {},
   "source": [
    "### Nested While Loops"
   ]
  },
  {
   "cell_type": "code",
   "execution_count": 20,
   "id": "9dc7add0",
   "metadata": {},
   "outputs": [
    {
     "name": "stdout",
     "output_type": "stream",
     "text": [
      "mother\n"
     ]
    }
   ],
   "source": [
    "gender = 21\n",
    "if age < 18:\n",
    "    if gender == 'M':\n",
    "        print('son')\n",
    "    else:\n",
    "        print('daughter')\n",
    "elif age >= 18 and age < 65:\n",
    "    if gender == 'M':\n",
    "        print('father')\n",
    "    else:\n",
    "        print('mother')\n",
    "else:\n",
    "    if gender == 'M':\n",
    "        print('grandfather')\n",
    "    else:\n",
    "        print('grandmother')"
   ]
  },
  {
   "cell_type": "code",
   "execution_count": 21,
   "id": "7d459801",
   "metadata": {},
   "outputs": [
    {
     "name": "stdout",
     "output_type": "stream",
     "text": [
      "foo\n",
      "> baz\n",
      "> qux\n",
      "bar\n",
      "> baz\n",
      "> qux\n"
     ]
    }
   ],
   "source": [
    "#loop dalam loop\n",
    "a = ['foo', 'bar']\n",
    "\n",
    "while len(a):\n",
    "    print(a.pop(0))\n",
    "    \n",
    "    b = ['baz', 'qux']\n",
    "    \n",
    "    while len(b):\n",
    "        print('>', b.pop(0))"
   ]
  },
  {
   "cell_type": "markdown",
   "id": "dd643823",
   "metadata": {},
   "source": [
    "## The Python for Loop"
   ]
  },
  {
   "cell_type": "markdown",
   "id": "7558392c",
   "metadata": {},
   "source": [
    "### Iterating Through a Dictionary"
   ]
  },
  {
   "cell_type": "code",
   "execution_count": 22,
   "id": "4cece27b",
   "metadata": {},
   "outputs": [
    {
     "name": "stdout",
     "output_type": "stream",
     "text": [
      "abc\n",
      "def\n",
      "ghi\n"
     ]
    }
   ],
   "source": [
    "a = ['abc', 'def', 'ghi']\n",
    "for i in a:\n",
    "    print(i)"
   ]
  },
  {
   "cell_type": "code",
   "execution_count": 23,
   "id": "da3e20e1",
   "metadata": {},
   "outputs": [
    {
     "name": "stdout",
     "output_type": "stream",
     "text": [
      "1\n",
      "2\n",
      "3\n"
     ]
    },
    {
     "data": {
      "text/plain": [
       "dict_items([('foo', 1), ('bar', 2), ('buzz', 3)])"
      ]
     },
     "execution_count": 23,
     "metadata": {},
     "output_type": "execute_result"
    }
   ],
   "source": [
    "a = {'foo':1, 'bar':2, 'buzz':3}\n",
    "for i in a.values():\n",
    "     print(i)\n",
    "\n",
    "a.items()"
   ]
  },
  {
   "cell_type": "code",
   "execution_count": 24,
   "id": "4887e9d7",
   "metadata": {},
   "outputs": [
    {
     "name": "stdout",
     "output_type": "stream",
     "text": [
      "<class 'range'>\n"
     ]
    }
   ],
   "source": [
    "print(type(range(5)))"
   ]
  },
  {
   "cell_type": "markdown",
   "id": "bf1f9c28",
   "metadata": {},
   "source": [
    "### The range() Function"
   ]
  },
  {
   "cell_type": "code",
   "execution_count": 1,
   "id": "481f5928",
   "metadata": {},
   "outputs": [
    {
     "name": "stdout",
     "output_type": "stream",
     "text": [
      "0\n",
      "1\n",
      "2\n",
      "3\n",
      "4\n"
     ]
    }
   ],
   "source": [
    "for n in (0, 1, 2, 3, 4):\n",
    "    print(n)"
   ]
  },
  {
   "cell_type": "markdown",
   "id": "cb5392f0",
   "metadata": {},
   "source": [
    "### The break and continue Statements"
   ]
  },
  {
   "cell_type": "code",
   "execution_count": 2,
   "id": "af93f60f",
   "metadata": {},
   "outputs": [
    {
     "name": "stdout",
     "output_type": "stream",
     "text": [
      "foo\n"
     ]
    }
   ],
   "source": [
    "for i in ['foo', 'bar', 'baz', 'qux']:\n",
    "    if 'b' in i:\n",
    "        break\n",
    "    print(i)"
   ]
  },
  {
   "cell_type": "code",
   "execution_count": 3,
   "id": "fff08ddb",
   "metadata": {},
   "outputs": [
    {
     "name": "stdout",
     "output_type": "stream",
     "text": [
      "foo\n",
      "qux\n"
     ]
    }
   ],
   "source": [
    "for i in ['foo', 'bar', 'baz', 'qux']:\n",
    "    if 'b' in i:\n",
    "        continue\n",
    "    print(i)"
   ]
  },
  {
   "cell_type": "markdown",
   "id": "de5c633d",
   "metadata": {},
   "source": [
    "### The else Clause"
   ]
  },
  {
   "cell_type": "code",
   "execution_count": 4,
   "id": "e4cb2f15",
   "metadata": {},
   "outputs": [
    {
     "name": "stdout",
     "output_type": "stream",
     "text": [
      "20\n",
      "18\n",
      "16\n",
      "14\n",
      "12\n",
      "10\n",
      "8\n",
      "6\n",
      "done\n"
     ]
    }
   ],
   "source": [
    "for i in range(20,4,-2): #perulangan dimulai dengan i diinisialisasi dengan nilai 20 dan berkurang sebesar 2 pada setiap iterasi hingga mencapai 4\n",
    "    if i == 1: #pernyataan if memeriksa apakah i sama dengan 1. Jika ya, maka pernyataan break dijalankan yang menghentikan perulangan sebelum waktunya\n",
    "        break\n",
    "    print(i)\n",
    "else: #Jika perulangan menyelesaikan semua iterasi tanpa menemui pernyataan break, maka blok else akan dieksekusi\n",
    "    print('done')\n",
    "#karena perulangan dimulai dari 20 dan berkurang sebesar 2 pada setiap iterasi maka tidak akan mencapai nilai 1, sehingga'done' akan dicetak di akhir perulangan"
   ]
  },
  {
   "cell_type": "code",
   "execution_count": 5,
   "id": "2015e25f",
   "metadata": {},
   "outputs": [
    {
     "name": "stdout",
     "output_type": "stream",
     "text": [
      "berapa umur kamu?21\n",
      "23\n",
      "tipe data umur adalah <class 'str'>\n",
      "tipe data umur_int adalah <class 'int'>\n"
     ]
    }
   ],
   "source": [
    "umur = input('berapa umur kamu?')\n",
    "umur_int = int(umur)\n",
    "print(umur_int + 2)\n",
    "\n",
    "print('tipe data umur adalah', type(umur))\n",
    "print('tipe data umur_int adalah', type(umur_int))"
   ]
  },
  {
   "cell_type": "code",
   "execution_count": 7,
   "id": "ed82a80a",
   "metadata": {},
   "outputs": [
    {
     "name": "stdout",
     "output_type": "stream",
     "text": [
      "Ketikan temperatur yang ingin dikonversi, eg. 45F, 120C: 30 F\n",
      "Temperaturnya adalah -1 derajat\n"
     ]
    }
   ],
   "source": [
    "temp = input(\"Ketikan temperatur yang ingin dikonversi, eg. 45F, 120C: \") \n",
    "degree = int(temp[:-1])\n",
    "i_convertion = temp[-1]\n",
    "\n",
    "if i_convertion == \"C\":\n",
    "    result = int(round ((9* degree) / 5 + 32))\n",
    "elif i_convertion == \"F\": \n",
    "    result = int(round ((degree - 32) * 5 / 9))\n",
    "else: \n",
    "    print(\"Masukan input yang benar\")\n",
    "    \n",
    "print(\"Temperaturnya adalah\", result, \"derajat\")"
   ]
  },
  {
   "cell_type": "code",
   "execution_count": 2,
   "id": "e4dd35e1",
   "metadata": {},
   "outputs": [
    {
     "name": "stdout",
     "output_type": "stream",
     "text": [
      "masukkan password kamu:sarah\n",
      "password yang kamu masukkan salah\n",
      "masukkan password kamu:hacktivate\n"
     ]
    }
   ],
   "source": [
    "while True:\n",
    "    password = input('masukkan password kamu:')\n",
    "    \n",
    "    if password == 'hacktivate':\n",
    "        break\n",
    "    else:\n",
    "        print('password yang kamu masukkan salah')"
   ]
  },
  {
   "cell_type": "code",
   "execution_count": null,
   "id": "d412c13f",
   "metadata": {},
   "outputs": [],
   "source": []
  }
 ],
 "metadata": {
  "kernelspec": {
   "display_name": "Python 3 (ipykernel)",
   "language": "python",
   "name": "python3"
  },
  "language_info": {
   "codemirror_mode": {
    "name": "ipython",
    "version": 3
   },
   "file_extension": ".py",
   "mimetype": "text/x-python",
   "name": "python",
   "nbconvert_exporter": "python",
   "pygments_lexer": "ipython3",
   "version": "3.11.4"
  }
 },
 "nbformat": 4,
 "nbformat_minor": 5
}
