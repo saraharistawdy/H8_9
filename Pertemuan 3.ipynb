{
 "cells": [
  {
   "cell_type": "markdown",
   "id": "0d4effce",
   "metadata": {},
   "source": [
    "# Third Meeting"
   ]
  },
  {
   "cell_type": "markdown",
   "id": "ade3b31a",
   "metadata": {},
   "source": [
    "## Defining a Function"
   ]
  },
  {
   "cell_type": "code",
   "execution_count": 1,
   "id": "331ea008",
   "metadata": {},
   "outputs": [],
   "source": [
    "def halo(b,v):\n",
    "    #function ini akan menyapa kamu,tinggal memesukkan nama lalu kondisi\n",
    "    a = f'halo {b} yang {v}'\n",
    "    return a"
   ]
  },
  {
   "cell_type": "code",
   "execution_count": 2,
   "id": "bc6c7720",
   "metadata": {},
   "outputs": [
    {
     "data": {
      "text/plain": [
       "'halo sarah yang sedang sedih'"
      ]
     },
     "execution_count": 2,
     "metadata": {},
     "output_type": "execute_result"
    }
   ],
   "source": [
    "halo('sarah','sedang sedih')"
   ]
  },
  {
   "cell_type": "code",
   "execution_count": 3,
   "id": "ba2e0dcc",
   "metadata": {},
   "outputs": [],
   "source": [
    "def my_function(p, l):\n",
    "    \"Function untuk mengitung luas\"\n",
    "    print(p * l)"
   ]
  },
  {
   "cell_type": "code",
   "execution_count": 9,
   "id": "4ca68c74",
   "metadata": {},
   "outputs": [
    {
     "name": "stdout",
     "output_type": "stream",
     "text": [
      "8\n"
     ]
    }
   ],
   "source": [
    "my_function(2,4)"
   ]
  },
  {
   "cell_type": "markdown",
   "id": "dcd3d89a",
   "metadata": {},
   "source": [
    "## Calling a Function"
   ]
  },
  {
   "cell_type": "code",
   "execution_count": 4,
   "id": "0d919dd0",
   "metadata": {},
   "outputs": [
    {
     "name": "stdout",
     "output_type": "stream",
     "text": [
      "hasilnya\n",
      "95\n"
     ]
    }
   ],
   "source": [
    "def printme(str, angka = 8):\n",
    "    print(str)\n",
    "    print(angka * 5)\n",
    "    return\n",
    "\n",
    "printme(angka = 19, str ='hasilnya')"
   ]
  },
  {
   "cell_type": "markdown",
   "id": "8ec7e71d",
   "metadata": {},
   "source": [
    "## Pass by Reference vs Value\n",
    "If you modify what a parameter refers to within a function, that change is also reflected back to the calling function."
   ]
  },
  {
   "cell_type": "code",
   "execution_count": 5,
   "id": "a9a6e6c7",
   "metadata": {},
   "outputs": [
    {
     "name": "stdout",
     "output_type": "stream",
     "text": [
      "Values inside the function:  [10, 14, 16, [5, 6, 7, 8]]\n",
      "Values outside the function:  [10, 14, 16, [5, 6, 7, 8]]\n"
     ]
    }
   ],
   "source": [
    "def changeme( mylist ):\n",
    "#\"changeme\" digunakan sebagai placeholder atau penanda bahwa suatu kode harus diperbarui dengan nilai atau informasi yang sesuai\n",
    "   \"This changes a passed list into this function\"\n",
    "   mylist.append([5,6,7,8]);\n",
    "   print(\"Values inside the function: \", mylist)\n",
    "   return\n",
    "mylist = [10,14,16];\n",
    "changeme( mylist );\n",
    "print(\"Values outside the function: \", mylist)"
   ]
  },
  {
   "cell_type": "markdown",
   "id": "dd4b84fa",
   "metadata": {},
   "source": [
    "## Function Arguments"
   ]
  },
  {
   "cell_type": "markdown",
   "id": "8d3d2c97",
   "metadata": {},
   "source": [
    "### Required Arguments\n",
    "Required arguments are arguments passed to a function in the correct positional order. The number of arguments in the function call must match exactly with the function definition"
   ]
  },
  {
   "cell_type": "code",
   "execution_count": 7,
   "id": "7eaf9970",
   "metadata": {},
   "outputs": [
    {
     "ename": "TypeError",
     "evalue": "printme() missing 1 required positional argument: 'str'",
     "output_type": "error",
     "traceback": [
      "\u001b[1;31m---------------------------------------------------------------------------\u001b[0m",
      "\u001b[1;31mTypeError\u001b[0m                                 Traceback (most recent call last)",
      "Cell \u001b[1;32mIn[7], line 6\u001b[0m\n\u001b[0;32m      3\u001b[0m    \u001b[38;5;28mprint\u001b[39m(\u001b[38;5;28mstr\u001b[39m)\n\u001b[0;32m      4\u001b[0m    \u001b[38;5;28;01mreturn\u001b[39;00m;\n\u001b[1;32m----> 6\u001b[0m \u001b[43mprintme\u001b[49m\u001b[43m(\u001b[49m\u001b[43m)\u001b[49m\n",
      "\u001b[1;31mTypeError\u001b[0m: printme() missing 1 required positional argument: 'str'"
     ]
    }
   ],
   "source": [
    "def printme( str ):\n",
    "   \"This prints a passed string into this function\"\n",
    "   print(str)\n",
    "   return;\n",
    "\n",
    "printme()"
   ]
  },
  {
   "cell_type": "markdown",
   "id": "a2d529cc",
   "metadata": {},
   "source": [
    "### Keyword Arguments\n",
    "Keyword arguments are related to calling a function. The caller identifies the arguments by the parameter names"
   ]
  },
  {
   "cell_type": "code",
   "execution_count": 8,
   "id": "a8e2208e",
   "metadata": {},
   "outputs": [
    {
     "name": "stdout",
     "output_type": "stream",
     "text": [
      "Aristawidya\n"
     ]
    }
   ],
   "source": [
    "printme(str = \"Aristawidya\")"
   ]
  },
  {
   "cell_type": "markdown",
   "id": "c97b9496",
   "metadata": {},
   "source": [
    "### Default Arguments\n",
    "Default arguments are arguments that assume a default value if it is not provided in the function call for that argument"
   ]
  },
  {
   "cell_type": "code",
   "execution_count": 9,
   "id": "92c0538c",
   "metadata": {},
   "outputs": [
    {
     "name": "stdout",
     "output_type": "stream",
     "text": [
      "Name:  hacktiv8\n",
      "Age:  50\n",
      "Name:  hacktiv\n",
      "Age:  26\n"
     ]
    }
   ],
   "source": [
    "def printinfo( name, age = 26 ):\n",
    "   \"This prints a passed info into this function\"\n",
    "   print(\"Name: \", name)\n",
    "   print(\"Age: \", age)\n",
    "   return;\n",
    "\n",
    "printinfo( age=50, name=\"hacktiv8\" )\n",
    "printinfo( name=\"hacktiv\" )"
   ]
  },
  {
   "cell_type": "markdown",
   "id": "00c57c58",
   "metadata": {},
   "source": [
    "### Variable-length Arguments"
   ]
  },
  {
   "cell_type": "code",
   "execution_count": 10,
   "id": "45247c20",
   "metadata": {},
   "outputs": [
    {
     "name": "stdout",
     "output_type": "stream",
     "text": [
      "Output is: \n",
      "10\n",
      "Output is: \n",
      "70\n",
      "60\n",
      "50\n",
      "a\n"
     ]
    }
   ],
   "source": [
    "def printinfo( arg1, *vartuple ):\n",
    "   \"This prints a variable passed arguments\"\n",
    "   print(\"Output is: \")\n",
    "   print(arg1)\n",
    "   for var in vartuple:\n",
    "      print(var)\n",
    "   return;\n",
    "\n",
    "printinfo( 10 )\n",
    "printinfo( 70, 60, 50, \"a\" )"
   ]
  },
  {
   "cell_type": "markdown",
   "id": "c6986a94",
   "metadata": {},
   "source": [
    "## The Anonymous Functions\n",
    "These functions are called anonymous because they are not declared in a standard way using the 'def' keyword."
   ]
  },
  {
   "cell_type": "code",
   "execution_count": 11,
   "id": "6cab47f9",
   "metadata": {},
   "outputs": [
    {
     "name": "stdout",
     "output_type": "stream",
     "text": [
      "penjumlahan dari 2 dan 2 adalah 4\n",
      "4\n"
     ]
    }
   ],
   "source": [
    "def jumlah(n1, n2):\n",
    "    print(f\"penjumlahan dari {n1} dan {n2} adalah {n1 + n2}\")\n",
    "    return n1 + n2\n",
    "\n",
    "print(jumlah(2,2))\n",
    "\n",
    "a = lambda n1, n2: n1 + n2  \n",
    "#print(a)"
   ]
  },
  {
   "cell_type": "markdown",
   "id": "9f8760f9",
   "metadata": {},
   "source": [
    "### The return Statement"
   ]
  },
  {
   "cell_type": "code",
   "execution_count": 12,
   "id": "2a1003d5",
   "metadata": {},
   "outputs": [
    {
     "name": "stdout",
     "output_type": "stream",
     "text": [
      "variabel total di dalam function: 30\n",
      "variabel total di luar function: 0\n"
     ]
    }
   ],
   "source": [
    "total = 0\n",
    "\n",
    "def jumlah(arg1, arg2):\n",
    "    \n",
    "    total = arg1 + arg2\n",
    "    print(\"variabel total di dalam function:\", total)\n",
    "    return total\n",
    "\n",
    "jumlah(10,20)\n",
    "print(\"variabel total di luar function:\", total)"
   ]
  },
  {
   "cell_type": "markdown",
   "id": "06b7b974",
   "metadata": {},
   "source": [
    "## Scope of Variables"
   ]
  },
  {
   "cell_type": "code",
   "execution_count": 13,
   "id": "fb9d7d84",
   "metadata": {},
   "outputs": [
    {
     "name": "stdout",
     "output_type": "stream",
     "text": [
      "40\n",
      "50\n"
     ]
    }
   ],
   "source": [
    "jumlahKucing = 50\n",
    "\n",
    "def jumlahHewan():\n",
    "    jumlahAnjing = 30\n",
    "    jumlahKucing = 10\n",
    "    return jumlahAnjing + jumlahKucing\n",
    "\n",
    "print(jumlahHewan())\n",
    "print(jumlahKucing)"
   ]
  },
  {
   "cell_type": "markdown",
   "id": "22e15d28",
   "metadata": {},
   "source": [
    "## Python Modules: Overview"
   ]
  },
  {
   "cell_type": "code",
   "execution_count": 15,
   "id": "a4356bc0",
   "metadata": {},
   "outputs": [
    {
     "name": "stdout",
     "output_type": "stream",
     "text": [
      "Sarah Aristawidya Kelas PYTN-KS19\n"
     ]
    },
    {
     "data": {
      "text/plain": [
       "[100, 200, 300]"
      ]
     },
     "execution_count": 15,
     "metadata": {},
     "output_type": "execute_result"
    }
   ],
   "source": [
    "import mod as m\n",
    "print(m.s)\n",
    "m.a"
   ]
  },
  {
   "cell_type": "code",
   "execution_count": 16,
   "id": "732a58d9",
   "metadata": {},
   "outputs": [],
   "source": [
    "s = 10"
   ]
  },
  {
   "cell_type": "code",
   "execution_count": 17,
   "id": "acd5c727",
   "metadata": {},
   "outputs": [
    {
     "name": "stdout",
     "output_type": "stream",
     "text": [
      "10\n",
      "Sarah Aristawidya Kelas PYTN-KS19\n"
     ]
    }
   ],
   "source": [
    "from mod import s as stri\n",
    "print(s)\n",
    "print(stri)"
   ]
  },
  {
   "cell_type": "code",
   "execution_count": 18,
   "id": "ed46afa7",
   "metadata": {},
   "outputs": [],
   "source": [
    "import pandas as pd\n",
    "import numpy as np\n",
    "import matplotlib.pyplot as plt"
   ]
  },
  {
   "cell_type": "code",
   "execution_count": 19,
   "id": "740ae220",
   "metadata": {},
   "outputs": [
    {
     "name": "stdout",
     "output_type": "stream",
     "text": [
      "[100, 200, 300]\n"
     ]
    }
   ],
   "source": [
    "def coba():\n",
    "    from mod import a\n",
    "    print(a)\n",
    "\n",
    "coba()"
   ]
  },
  {
   "cell_type": "code",
   "execution_count": 20,
   "id": "cdd7f51b",
   "metadata": {},
   "outputs": [
    {
     "name": "stdout",
     "output_type": "stream",
     "text": [
      "module not found\n"
     ]
    }
   ],
   "source": [
    "try:\n",
    "    from mod import b\n",
    "except ImportError:\n",
    "    print('module not found')"
   ]
  },
  {
   "cell_type": "code",
   "execution_count": 22,
   "id": "bc6fbdf2",
   "metadata": {},
   "outputs": [
    {
     "data": {
      "text/plain": [
       "'Sarah Aristawidya Kelas PYTN-KS19'"
      ]
     },
     "execution_count": 22,
     "metadata": {},
     "output_type": "execute_result"
    }
   ],
   "source": [
    "m.s"
   ]
  },
  {
   "cell_type": "markdown",
   "id": "56916d0e",
   "metadata": {},
   "source": [
    "### The Module Search Path"
   ]
  },
  {
   "cell_type": "code",
   "execution_count": 23,
   "id": "12a67742",
   "metadata": {},
   "outputs": [],
   "source": [
    "import mod\n",
    "import sys"
   ]
  },
  {
   "cell_type": "code",
   "execution_count": 24,
   "id": "6b48903e",
   "metadata": {},
   "outputs": [
    {
     "data": {
      "text/plain": [
       "['C:\\\\Users\\\\SARAH\\\\Hactiv8\\\\Class',\n",
       " 'C:\\\\Users\\\\SARAH\\\\anaconda3\\\\python311.zip',\n",
       " 'C:\\\\Users\\\\SARAH\\\\anaconda3\\\\DLLs',\n",
       " 'C:\\\\Users\\\\SARAH\\\\anaconda3\\\\Lib',\n",
       " 'C:\\\\Users\\\\SARAH\\\\anaconda3',\n",
       " '',\n",
       " 'C:\\\\Users\\\\SARAH\\\\AppData\\\\Roaming\\\\Python\\\\Python311\\\\site-packages',\n",
       " 'C:\\\\Users\\\\SARAH\\\\AppData\\\\Roaming\\\\Python\\\\Python311\\\\site-packages\\\\win32',\n",
       " 'C:\\\\Users\\\\SARAH\\\\AppData\\\\Roaming\\\\Python\\\\Python311\\\\site-packages\\\\win32\\\\lib',\n",
       " 'C:\\\\Users\\\\SARAH\\\\AppData\\\\Roaming\\\\Python\\\\Python311\\\\site-packages\\\\Pythonwin',\n",
       " 'C:\\\\Users\\\\SARAH\\\\anaconda3\\\\Lib\\\\site-packages',\n",
       " 'C:\\\\Users\\\\SARAH\\\\anaconda3\\\\Lib\\\\site-packages\\\\win32',\n",
       " 'C:\\\\Users\\\\SARAH\\\\anaconda3\\\\Lib\\\\site-packages\\\\win32\\\\lib',\n",
       " 'C:\\\\Users\\\\SARAH\\\\anaconda3\\\\Lib\\\\site-packages\\\\Pythonwin']"
      ]
     },
     "execution_count": 24,
     "metadata": {},
     "output_type": "execute_result"
    }
   ],
   "source": [
    "sys.path"
   ]
  },
  {
   "cell_type": "markdown",
   "id": "ce036277",
   "metadata": {},
   "source": [
    "### The import Statement"
   ]
  },
  {
   "cell_type": "code",
   "execution_count": 25,
   "id": "75a01874",
   "metadata": {},
   "outputs": [
    {
     "name": "stdout",
     "output_type": "stream",
     "text": [
      "arg = quux\n"
     ]
    },
    {
     "data": {
      "text/plain": [
       "<mod.Foo at 0x19932ab26d0>"
      ]
     },
     "execution_count": 25,
     "metadata": {},
     "output_type": "execute_result"
    }
   ],
   "source": [
    "from mod import s, foo\n",
    "s\n",
    "foo('quux')\n",
    "from mod import Foo\n",
    "x = Foo()\n",
    "x"
   ]
  },
  {
   "cell_type": "code",
   "execution_count": 26,
   "id": "23a7f54d",
   "metadata": {},
   "outputs": [
    {
     "data": {
      "text/plain": [
       "mod.Foo"
      ]
     },
     "execution_count": 26,
     "metadata": {},
     "output_type": "execute_result"
    }
   ],
   "source": [
    "from mod import *\n",
    "#tidak direkomendasikan dalam kode produksi skala besar\n",
    "#dan sedikit berbahaya karena memasukkan nama ke tabel simbol lokal secara massal\n",
    "s\n",
    "Foo"
   ]
  },
  {
   "cell_type": "code",
   "execution_count": 28,
   "id": "97f024e0",
   "metadata": {},
   "outputs": [
    {
     "ename": "ImportError",
     "evalue": "cannot import name 'b' from 'mod' (C:\\Users\\SARAH\\Hactiv8\\Class\\mod.py)",
     "output_type": "error",
     "traceback": [
      "\u001b[1;31m---------------------------------------------------------------------------\u001b[0m",
      "\u001b[1;31mImportError\u001b[0m                               Traceback (most recent call last)",
      "Cell \u001b[1;32mIn[28], line 1\u001b[0m\n\u001b[1;32m----> 1\u001b[0m \u001b[38;5;28;01mfrom\u001b[39;00m \u001b[38;5;21;01mmod\u001b[39;00m \u001b[38;5;28;01mimport\u001b[39;00m b\n",
      "\u001b[1;31mImportError\u001b[0m: cannot import name 'b' from 'mod' (C:\\Users\\SARAH\\Hactiv8\\Class\\mod.py)"
     ]
    }
   ],
   "source": [
    "from mod import b"
   ]
  },
  {
   "cell_type": "markdown",
   "id": "49d387d6",
   "metadata": {},
   "source": [
    "### The dir() Function"
   ]
  },
  {
   "cell_type": "code",
   "execution_count": 29,
   "id": "b666bc89",
   "metadata": {},
   "outputs": [
    {
     "data": {
      "text/plain": [
       "['Foo',\n",
       " 'In',\n",
       " 'Out',\n",
       " '_',\n",
       " '_15',\n",
       " '_2',\n",
       " '_22',\n",
       " '_24',\n",
       " '_25',\n",
       " '_26',\n",
       " '__',\n",
       " '___',\n",
       " '__builtin__',\n",
       " '__builtins__',\n",
       " '__doc__',\n",
       " '__loader__',\n",
       " '__name__',\n",
       " '__package__',\n",
       " '__spec__',\n",
       " '_dh',\n",
       " '_i',\n",
       " '_i1',\n",
       " '_i10',\n",
       " '_i11',\n",
       " '_i12',\n",
       " '_i13',\n",
       " '_i14',\n",
       " '_i15',\n",
       " '_i16',\n",
       " '_i17',\n",
       " '_i18',\n",
       " '_i19',\n",
       " '_i2',\n",
       " '_i20',\n",
       " '_i21',\n",
       " '_i22',\n",
       " '_i23',\n",
       " '_i24',\n",
       " '_i25',\n",
       " '_i26',\n",
       " '_i27',\n",
       " '_i28',\n",
       " '_i29',\n",
       " '_i3',\n",
       " '_i4',\n",
       " '_i5',\n",
       " '_i6',\n",
       " '_i7',\n",
       " '_i8',\n",
       " '_i9',\n",
       " '_ih',\n",
       " '_ii',\n",
       " '_iii',\n",
       " '_oh',\n",
       " 'a',\n",
       " 'changeme',\n",
       " 'coba',\n",
       " 'exit',\n",
       " 'foo',\n",
       " 'get_ipython',\n",
       " 'hack',\n",
       " 'halo',\n",
       " 'jumlah',\n",
       " 'jumlahHewan',\n",
       " 'jumlahKucing',\n",
       " 'm',\n",
       " 'mod',\n",
       " 'my_function',\n",
       " 'mylist',\n",
       " 'np',\n",
       " 'open',\n",
       " 'pd',\n",
       " 'plt',\n",
       " 'printinfo',\n",
       " 'printme',\n",
       " 'quit',\n",
       " 's',\n",
       " 'stri',\n",
       " 'sys',\n",
       " 'total',\n",
       " 'x']"
      ]
     },
     "execution_count": 29,
     "metadata": {},
     "output_type": "execute_result"
    }
   ],
   "source": [
    "hack = 8\n",
    "dir() #Fungsi built-in dir() mengembalikan daftar nama yang ditentukan dalam namespace."
   ]
  },
  {
   "cell_type": "code",
   "execution_count": 30,
   "id": "f25b0959",
   "metadata": {},
   "outputs": [],
   "source": [
    "import pandas \n",
    "import numpy\n",
    "import seaborn"
   ]
  },
  {
   "cell_type": "code",
   "execution_count": 31,
   "id": "7245e411",
   "metadata": {},
   "outputs": [],
   "source": [
    "class Bar():\n",
    "...     pass"
   ]
  },
  {
   "cell_type": "markdown",
   "id": "87f5ba7b",
   "metadata": {},
   "source": [
    "### Executing a Module as a Script"
   ]
  },
  {
   "cell_type": "code",
   "execution_count": 32,
   "id": "d79fb120",
   "metadata": {},
   "outputs": [
    {
     "name": "stdout",
     "output_type": "stream",
     "text": [
      "Sarah Aristawidya Kelas PYTN-KS19\n",
      "arg = ini argumennya\n"
     ]
    },
    {
     "data": {
      "text/plain": [
       "<mod.Foo at 0x19934ff97d0>"
      ]
     },
     "execution_count": 32,
     "metadata": {},
     "output_type": "execute_result"
    }
   ],
   "source": [
    "import mod as m\n",
    "print(mod.s)\n",
    "mod.a\n",
    "mod.foo('ini argumennya')\n",
    "x = mod.Foo()\n",
    "x"
   ]
  },
  {
   "cell_type": "markdown",
   "id": "e19321fd",
   "metadata": {},
   "source": [
    "### Reloading a Module"
   ]
  },
  {
   "cell_type": "code",
   "execution_count": 33,
   "id": "67d575d4",
   "metadata": {},
   "outputs": [],
   "source": [
    "import mod"
   ]
  },
  {
   "cell_type": "code",
   "execution_count": 34,
   "id": "d1a47b89",
   "metadata": {},
   "outputs": [
    {
     "data": {
      "text/plain": [
       "<module 'mod' from 'C:\\\\Users\\\\SARAH\\\\Hactiv8\\\\Class\\\\mod.py'>"
      ]
     },
     "execution_count": 34,
     "metadata": {},
     "output_type": "execute_result"
    }
   ],
   "source": [
    "mod"
   ]
  },
  {
   "cell_type": "code",
   "execution_count": 35,
   "id": "d6bc3c63",
   "metadata": {},
   "outputs": [
    {
     "data": {
      "text/plain": [
       "<module 'mod' from 'C:\\\\Users\\\\SARAH\\\\Hactiv8\\\\Class\\\\mod.py'>"
      ]
     },
     "execution_count": 35,
     "metadata": {},
     "output_type": "execute_result"
    }
   ],
   "source": [
    "import importlib\n",
    "importlib.reload(mod)"
   ]
  },
  {
   "cell_type": "code",
   "execution_count": null,
   "id": "d8378ace",
   "metadata": {},
   "outputs": [],
   "source": []
  }
 ],
 "metadata": {
  "kernelspec": {
   "display_name": "Python 3 (ipykernel)",
   "language": "python",
   "name": "python3"
  },
  "language_info": {
   "codemirror_mode": {
    "name": "ipython",
    "version": 3
   },
   "file_extension": ".py",
   "mimetype": "text/x-python",
   "name": "python",
   "nbconvert_exporter": "python",
   "pygments_lexer": "ipython3",
   "version": "3.11.4"
  }
 },
 "nbformat": 4,
 "nbformat_minor": 5
}
